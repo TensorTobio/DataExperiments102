{
  "nbformat": 4,
  "nbformat_minor": 0,
  "metadata": {
    "colab": {
      "provenance": []
    },
    "kernelspec": {
      "name": "python3",
      "display_name": "Python 3"
    },
    "language_info": {
      "name": "python"
    }
  },
  "cells": [
    {
      "cell_type": "code",
      "execution_count": null,
      "metadata": {
        "id": "o47UEJsJTC4p"
      },
      "outputs": [],
      "source": [
        "from sklearn.tree import DecisionTreeClassifier\n",
        "import numpy as np\n",
        "import pandas as pd\n",
        "from google.colab import files\n",
        "uploaded = files.upload()"
      ]
    },
    {
      "cell_type": "code",
      "source": [
        "df = pd.read_csv(\"mushrooms.csv\")\n",
        "df"
      ],
      "metadata": {
        "id": "5uI2noQZTQVw"
      },
      "execution_count": null,
      "outputs": []
    },
    {
      "cell_type": "code",
      "source": [
        "!pip install shap\n",
        "!pip install pycaret\n",
        "!pip install markupsafe==2.0.1 Jinja2\n"
      ],
      "metadata": {
        "id": "m1neQ0gLhvF1"
      },
      "execution_count": null,
      "outputs": []
    },
    {
      "cell_type": "code",
      "source": [
        "import shap\n",
        "import pycaret\n",
        "from pycaret.classification import *"
      ],
      "metadata": {
        "id": "6DmV_13ilJjr"
      },
      "execution_count": null,
      "outputs": []
    },
    {
      "cell_type": "code",
      "source": [
        "from sklearn.model_selection import train_test_split\n",
        "from sklearn.preprocessing import LabelEncoder\n",
        "from sklearn.metrics import accuracy_score, classification_report\n",
        "\n",
        "lble = LabelEncoder()\n",
        "df_enc = df.apply(lble.fit_transform)\n",
        "\n"
      ],
      "metadata": {
        "id": "QFyI5mjYlZEQ"
      },
      "execution_count": null,
      "outputs": []
    },
    {
      "cell_type": "code",
      "source": [
        "y1 = df_enc['class']\n",
        "x1 = df_enc.drop(columns=['class'])\n",
        "model1 = DecisionTreeClassifier()\n",
        "model1.fit(x1,y1)\n",
        "\n"
      ],
      "metadata": {
        "id": "071-Z1oNp3_J"
      },
      "execution_count": null,
      "outputs": []
    },
    {
      "cell_type": "code",
      "source": [
        "df1 = pd.read_csv('mushrooms_test_dataset.csv')\n",
        "df1"
      ],
      "metadata": {
        "id": "BCJdt81xqadW"
      },
      "execution_count": null,
      "outputs": []
    },
    {
      "cell_type": "markdown",
      "source": [
        "We are now going to train a DecisionTree and a RandomForest model on this random and challenging generated dataset.\n"
      ],
      "metadata": {
        "id": "v-6vUCx7wnJP"
      }
    },
    {
      "cell_type": "code",
      "source": [
        "le2 = LabelEncoder()\n",
        "df1_enc = df1.apply(le2.fit_transform)\n",
        "\n",
        "y_test1 = df1_enc['class']\n",
        "x_test1 = df1_enc.drop(columns=['class'])"
      ],
      "metadata": {
        "id": "8Kd0EnvNq2u3"
      },
      "execution_count": null,
      "outputs": []
    },
    {
      "cell_type": "code",
      "source": [
        "pred1 = model1.predict(x_test1)\n",
        "\n",
        "print(f\"Accuracy: {accuracy_score(y_test1,pred1)}\")\n",
        "print(f\"Classification Report: {classification_report(y_test1,pred1)}\")"
      ],
      "metadata": {
        "id": "UH-pTyujrhbi"
      },
      "execution_count": null,
      "outputs": []
    },
    {
      "cell_type": "code",
      "source": [
        "from sklearn.ensemble import RandomForestClassifier\n",
        "model2 = RandomForestClassifier(n_estimators=10, criterion=\"gini\",random_state=22)\n",
        "model2.fit(x1,y1)\n"
      ],
      "metadata": {
        "id": "dCvHUdHHtQld"
      },
      "execution_count": null,
      "outputs": []
    },
    {
      "cell_type": "code",
      "source": [
        "pred2 = model2.predict(x_test1)\n",
        "\n",
        "print(f\"Accuracy: {accuracy_score(y_test1,pred2)}\")\n",
        "print(f\"Classification Report: {classification_report(y_test1,pred2)}\")"
      ],
      "metadata": {
        "id": "g2MbeVq-uluJ"
      },
      "execution_count": null,
      "outputs": []
    },
    {
      "cell_type": "code",
      "source": [
        "#Lastly, we are going to perform a shapley analysis on the original dataset to understand about the correlations\n",
        "ex = shap.KernelExplainer(model1.predict, shap.sample(x1,100))\n",
        "shap.initjs()\n",
        "shap_values = ex.shap_values(x_test1)\n",
        "shap.summary_plot(shap_values, x_test1)\n",
        "\n"
      ],
      "metadata": {
        "id": "WtDovzcUw-eg"
      },
      "execution_count": null,
      "outputs": []
    },
    {
      "cell_type": "code",
      "source": [
        "# Now, for the second model\n",
        "\n",
        "ex2 = shap.KernelExplainer(model2.predict, shap.sample(x1,100))\n",
        "shap.initjs()\n",
        "shap_values2 = ex2.shap_values(x_test1)\n",
        "shap.summary_plot(shap_values2, x_test1)"
      ],
      "metadata": {
        "id": "IE8ej-F8yNGp"
      },
      "execution_count": null,
      "outputs": []
    }
  ]
}